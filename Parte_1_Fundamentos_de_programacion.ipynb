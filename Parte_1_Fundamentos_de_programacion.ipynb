{
 "cells": [
  {
   "attachments": {},
   "cell_type": "markdown",
   "metadata": {},
   "source": [
    "# PARTE 1: FUNDAMENTOS DE PROGRAMACIÓN"
   ]
  },
  {
   "attachments": {},
   "cell_type": "markdown",
   "metadata": {},
   "source": [
    "## PARTE 1.1: OPERACIONES ARITMÉTICAS BÁSICAS"
   ]
  },
  {
   "attachments": {},
   "cell_type": "markdown",
   "metadata": {},
   "source": [
    "#### OPERACIONES"
   ]
  },
  {
   "cell_type": "code",
   "execution_count": null,
   "metadata": {},
   "outputs": [],
   "source": [
    "#SUMA\n",
    "\n",
    "#Python funciona como una calculadora. Aquí mediante la función prtin()\n",
    "#podemos realizar operaciones de suma y obtener su resultado impreso por pantalla\n",
    "print(5+4)\n",
    "print(8+7)"
   ]
  },
  {
   "cell_type": "code",
   "execution_count": null,
   "metadata": {},
   "outputs": [],
   "source": [
    "#RESTA\n",
    "print(1-4)\n",
    "print(3-7)"
   ]
  },
  {
   "cell_type": "code",
   "execution_count": null,
   "metadata": {},
   "outputs": [],
   "source": [
    "#MULTIPLICACIÓN\n",
    "print(1*-4)\n",
    "print(3*7)"
   ]
  },
  {
   "cell_type": "code",
   "execution_count": null,
   "metadata": {},
   "outputs": [],
   "source": [
    "#DIVISIÓN\n",
    "#Este tipo de división sí genera residuo\n",
    "print(1/4)\n",
    "print(3/7)\n",
    "print(8/3)\n",
    "print(8/6)"
   ]
  },
  {
   "cell_type": "code",
   "execution_count": null,
   "metadata": {},
   "outputs": [],
   "source": [
    "#MÓDULO - RESIDUO DE UNA DIVISIÓN\n",
    "#El uso del módulo es una excelente forma para poder obtener el residuo entero de una divisón\n",
    "print(7%2)\n",
    "print(8%2)\n",
    "print(10%4)\n",
    "print(8%6)\n"
   ]
  },
  {
   "cell_type": "code",
   "execution_count": null,
   "metadata": {},
   "outputs": [],
   "source": [
    "#POTENCIA\n",
    "print(7**2)\n",
    "\n",
    "\n",
    "#Importamos el módulo de math para realizar operaciones matemáticas complejas\n",
    "import math\n",
    "print(math.pow(7,2))#Esta expresión se lee como 7 elevado a la 2\n",
    "\n",
    "\n",
    "#El método math.pow, pasamos el número y las veces que lo queremos elevar\n",
    "print(math.pow(3,3))#Esta expresión se lee como 3 elevado a la 3\n",
    "\n",
    "\n",
    "numero1 = 9\n",
    "numero2 = 8\n",
    "\n",
    "numero_potencia = (math.pow(numero1, numero2))\n",
    "print(numero_potencia)\n",
    "\n",
    "print(9**8)\n",
    "#Se puede observar que ambos métodos funcionan de igual forma\n",
    "#de tal manera que cualquier métod es válidó, ya sea con el doble ** o\n",
    "#usando math.pow()"
   ]
  },
  {
   "cell_type": "code",
   "execution_count": null,
   "metadata": {},
   "outputs": [],
   "source": [
    "#RAÍZ CUADRADA\n",
    "\n",
    "# Raíz cuadrada mediante el método aritmético\n",
    "print(9**(1/2))#Esta empresión se leería como 9 elevado a la 1/2\n",
    "\n",
    "# Uso de la raiz cuadrada mediante la función math.sqrt, seguido del parámetro a obtener\n",
    "print(math.sqrt(9))\n",
    "print(math.sqrt(52))\n",
    "print(math.sqrt(894))\n",
    "print(math.sqrt(854987))\n",
    "\n",
    "\n"
   ]
  },
  {
   "cell_type": "code",
   "execution_count": null,
   "metadata": {},
   "outputs": [],
   "source": [
    "#VALOR ABSOLUTO\n",
    "\n",
    "#El valor absoluto de un número es el mismo número sin tomar en cuenta su signo\n",
    "#para ello vasta con llamar al módulo abs, seguido del número que deseamos utilizar\n",
    "print(abs(-200))\n",
    "print(abs(200))\n",
    "\n",
    "print(abs(-354))"
   ]
  },
  {
   "attachments": {},
   "cell_type": "markdown",
   "metadata": {},
   "source": [
    "#### REDONDEO"
   ]
  },
  {
   "cell_type": "code",
   "execution_count": null,
   "metadata": {},
   "outputs": [],
   "source": [
    "#REDONDEO CLÁSICO\n",
    "print(round(10.51))\n",
    "print(round(10.6))\n",
    "print(round(89.46))\n",
    "n1 = 89.4\n",
    "n2 = 89.56\n",
    "n3 = (round(n1 * n2))\n",
    "res = f'al multiplicar los números {n1} y {n2} y aplicar el redonde clasico obtenemos lo siguiente: {n3} y sin el redondeo obtendriamos el siguiente resultado:', (n1*n2)\n",
    "print(res)\n",
    "\n",
    "#Siempre que el redondeo sea menor a .5 se aplica el redondeo haca abajo y siempre que este sea mayor a .5 siempre será el redondeo hacia arriba"
   ]
  },
  {
   "cell_type": "code",
   "execution_count": null,
   "metadata": {},
   "outputs": [],
   "source": [
    "#REDONDEO HACIA\n",
    "\n",
    "# El módulo math, también incluye redondeo menor el cual siempre \n",
    "# devolverá un entero sin importar cuántas decimales tenga\n",
    "print(math.floor(1.2564578))\n",
    "print(math.floor(1.111121121))\n",
    "print(math.floor(1.49))\n",
    "print(math.floor(1.99))\n",
    "print(math.floor(11.999999))\n",
    "print(math.floor(11.1))"
   ]
  },
  {
   "cell_type": "code",
   "execution_count": null,
   "metadata": {},
   "outputs": [],
   "source": [
    "#REDONDEO HACIA ARRIBA\n",
    "\n",
    "# De la misma manera, el método ceil, de la librería math, hará todo lo contrario\n",
    "# Mediante este método el redondeo siempre será el entero más proximo hacia arriba\n",
    "print(math.ceil(11.999999))\n",
    "print(math.ceil(1.25254478))\n",
    "print(math.ceil(.245512))\n",
    "print(math.ceil(11.1))"
   ]
  },
  {
   "cell_type": "code",
   "execution_count": null,
   "metadata": {},
   "outputs": [],
   "source": [
    "#TRUNCAMIENTO\n",
    "import math\n",
    "# Esta métodos no redonde ni de forma clásica, ni hacia arriba ni hacia abajo.\n",
    "# Solo permite obtener el valor del entero excluyendo cualquier parte deciaml.\n",
    "print(math.trunc(11.99999))\n",
    "print(math.trunc(23.56))\n",
    "print(math.trunc(22.99999))\n",
    "print(math.trunc(11.1))"
   ]
  },
  {
   "attachments": {},
   "cell_type": "markdown",
   "metadata": {},
   "source": [
    "#### CONSTANTES MATEMÁTICAS"
   ]
  },
  {
   "cell_type": "code",
   "execution_count": null,
   "metadata": {},
   "outputs": [],
   "source": [
    "math.pi\n",
    "\n",
    "# El m+odulo math también incluye constantes matemáticas como el método math.pi\n",
    "# El cual, nos permite utilizarlo dentro de nuestro código como si fuera un valor más\n",
    "a = None\n",
    "b = 23\n",
    "c = math.pi\n",
    "\n",
    "a = (math.pi*b)**2\n",
    "print(f'El area de este círculo es: {a}')"
   ]
  },
  {
   "cell_type": "code",
   "execution_count": null,
   "metadata": {},
   "outputs": [],
   "source": [
    "math.e\n",
    "# También incluye el número do euler para cuando sea necesario tengamos más acceso\n",
    "# y manera inmediata podamos utilizar esta función.\n"
   ]
  },
  {
   "attachments": {},
   "cell_type": "markdown",
   "metadata": {},
   "source": [
    "## PARTE 1.2: MANEJO DE CADENAS"
   ]
  },
  {
   "cell_type": "code",
   "execution_count": null,
   "metadata": {},
   "outputs": [],
   "source": [
    "#IMPRIMIR UN MENSAJE EN CONSOLA\n",
    "\n",
    "# En Python cualquier caracter es considerado un string.\n",
    "# Este tipo de dato siempre se debe declarar con comillas simples ('') dobles (\" \")\n",
    "# o triples.\n",
    "print(\"HOLA MUNDO\")\n",
    "print('HOLA MUNDO')\n",
    "\n",
    "\n",
    "# Cuando tengamos la necesidad de utilizar las comillas para resaltar un texto, \n",
    "# Palabra frase u oración será necesario jugar con su uso de la siguiente manera:\n",
    "NOMBRE = \"Eduardo\"\n",
    "\n",
    "# En el siguiente codigo la  el string lo declaramos con comillas dobles (\" \")\n",
    "# Pero resaltamos la palabra con comillas simples (' ')\n",
    "# De esta manera lo que se imprime en pantalla es las comillas simples (' ')\n",
    "print(\"'HOLA'\",NOMBRE, \".\" \" Cómo has estado? \")\n",
    "\n",
    "\n",
    "print(\"HOLA\",\"NOMBRE\") #TEXTO \"NOMBRE\""
   ]
  },
  {
   "cell_type": "code",
   "execution_count": null,
   "metadata": {},
   "outputs": [],
   "source": [
    "#IMPRIMIR UN MENSAJE CON COMILLAS\n",
    "#HOLA ME DICEN \"BENJI\"\n",
    "print(\"HOLA ME DICEN 'BENJI' \")\n",
    "print('HOLA ME DICEN \"BENJI\" ')"
   ]
  },
  {
   "cell_type": "code",
   "execution_count": null,
   "metadata": {},
   "outputs": [],
   "source": [
    "#TABULACIONES\n",
    "\n",
    "# En Python, hay instrucciones reservada que no se ejecutan como código directo\n",
    "# Ejemplo de ello es la setencia \\t Esta instrucción se interpreta como \"genera una tabulación\"\n",
    "print(\"HOLA ME DICEN \\t'Lalo' \")\n",
    "print(\"Nombre: \\t\", \"Eduardo\" )"
   ]
  },
  {
   "cell_type": "code",
   "execution_count": null,
   "metadata": {},
   "outputs": [],
   "source": [
    "#SALTO DE LÍNEA Y TABULACIÓN\n",
    "print(\"Hola, me dicen \\n'Lalo.'\", \"Mi nombre es: \\t Eduardo \\n y mi \\n apellido es:\\t Moreno\" ) "
   ]
  },
  {
   "cell_type": "code",
   "execution_count": null,
   "metadata": {},
   "outputs": [],
   "source": [
    "#TEXTO SIN EJECUTAR COMANDOS\n",
    "\n",
    "# El método raw (r) no intepreta ningún tipo de instrucción\n",
    "# y devuelve todo como texto crudo sin interpretar ningún tipo de instrucción\n",
    "print(r\"HOLA ME DICEN \\n\\t'BENJI' \") #raw\n",
    "\n",
    "# Salida sin raw\n",
    "print(\"La vida del mundo\\nes una forma de vivir\\t y vivir es vivir\")\n",
    "\n",
    "\n",
    "# Salida con raw\n",
    "print(r\"La vida del mundo \\n es una forma de vivir \\t y vivir es vivir\")"
   ]
  },
  {
   "cell_type": "code",
   "execution_count": null,
   "metadata": {},
   "outputs": [],
   "source": [
    "#MOSTRAR VARIAS LÍNEAS\n",
    "\n",
    "# El uso de las tres comillas (\"\"\" \"\"\") no solo sirve para que un texto sea exluído del código\n",
    "# Tienen una función al momento de imprimirse y este es, que nos permite imprimir varias\n",
    "# Líneas de código donde podemos ubicar el texto en cualquier parte del mensaje a imprimir\n",
    "print(\"\"\"hola\n",
    "estoy\n",
    "estudiando\n",
    "python\"\"\")\n",
    "\n",
    "menu = \"\"\"\n",
    "Elige una opción del menú:\n",
    "\n",
    "            opción 1: Sumar\n",
    "            opción 2: Restar\n",
    "            opción 3: Multiplicar\n",
    "            opción 4: Dividir\n",
    "\"\"\"\n",
    "print(menu)"
   ]
  },
  {
   "cell_type": "code",
   "execution_count": null,
   "metadata": {},
   "outputs": [],
   "source": [
    "#SUMA DE CADENAS\n",
    "C1 = \"HOLA \"\n",
    "C2 = \"MUNDO\"\n",
    "print(C1+C2)\n",
    "print(C1,C2)"
   ]
  },
  {
   "cell_type": "code",
   "execution_count": null,
   "metadata": {},
   "outputs": [],
   "source": [
    "#MULTIPLICACIÓN DE CADENAS\n",
    "C1 = \"ABC\"\n",
    "print(C1*3)\n",
    "print(C1+C1+C1)"
   ]
  },
  {
   "cell_type": "code",
   "execution_count": null,
   "metadata": {},
   "outputs": [],
   "source": [
    "#ÍNDICES DE CADENAS\n",
    "#Siempre se accede a un índice de un string mediante los corchetes\n",
    "#Ya que un string es en sí mismo una lista de elementos concatenados\n",
    "\n",
    "C1 = \"Eduardo Leon\"\n",
    "print(C1[0])\n",
    "print(C1[5])\n",
    "\n",
    "print(C1[8])\n",
    "print(C1[-1])\n",
    "print(C1[-6])"
   ]
  },
  {
   "cell_type": "code",
   "execution_count": null,
   "metadata": {},
   "outputs": [],
   "source": [
    "#SLICING DE CADENAS\n",
    "\n",
    "#El slicing de cadenas (porción de algo) siempre se invoca con los dos puntos\n",
    "# es decir \" desde aquí hasta aca (:-1)\" esto se leería como desde el inciio\n",
    "#hasta el penúltimo\n",
    "\n",
    "C3= \"Ejemplo de porción\"\n",
    "    # E j e m p l o     d e      p   o   r   c   i    o  n\n",
    "    # 0 1 2 3 4 5 6  7  8 9  10  11  12  13  14  15  16  17\n",
    "print(C3[:4])#Considera que esto se lee como desde el \"cero hasta el 3\"\n",
    "\n",
    "print(C3[4:7])#Considera que esto se lee como \"desde la posición 4 hasta la 6 \"\n",
    "\n",
    "print(C3[8:10])#Considera que esto se lee como \"desde la posición 8 hasta la 9 \"\n",
    "\n",
    "print(C3[11:])#Considera que esto se lee como \"desde la posición 11 hasta el final \"\n",
    "\n",
    "\n",
    "print(C3[0:18])#Considera que esto se lee como \"desde la posición 0 hasta la 17 \"\n",
    "\n",
    "\n"
   ]
  },
  {
   "cell_type": "code",
   "execution_count": null,
   "metadata": {},
   "outputs": [],
   "source": [
    "#NO SE PUEDE MODIFICAR MEDIANTE SLICING O ÍNDICES\n",
    "C1 = \"Eduardo León\"\n",
    "C1[0] = \"X\"\n",
    "\"\"\"\n",
    "Si intenatmos modificar un elemnto a través de su índice resiviremos el siguiente error:\n",
    "TypeError                                 Traceback (most recent call last)\n",
    "Cell In[49], line 3\n",
    "    1 #NO SE PUEDE MODIFICAR MEDIANTE SLICING O ÍNDICES\n",
    "    2 C1 = \"Eduardo León\"\n",
    "----> 3 C1[0] = \"X\"\n",
    "\n",
    "TypeError: 'str' object does not support item assignment\n",
    "\"\"\""
   ]
  },
  {
   "cell_type": "code",
   "execution_count": 10,
   "metadata": {},
   "outputs": [
    {
     "name": "stdout",
     "output_type": "stream",
     "text": [
      "12\n",
      "La lista contiene 4 elementos\n",
      "El elemento 0 de la lista contiene 4 caracteres\n",
      "El elemento 1 de la lista contiene 7 caracteres\n",
      "El elemento 2 de la lista contiene 6 caracteres\n",
      "El elemento 3 de la lista contiene 6 caracteres\n"
     ]
    }
   ],
   "source": [
    "#LONGITUD DE UNA CADENA\n",
    "#La función len() devuelve la cantidad de elemntos que contiene una variable\n",
    "C4 = \"Eduardo Leon\"\n",
    "print(len(C4))\n",
    "\n",
    "lista_01 = ['Juan', 'Antonio','Ramiro','Uvaldo']\n",
    "\n",
    "print((f'La lista contiene {len(lista_01)} elementos'))\n",
    "print(f'El elemento 0 de la lista contiene {len(lista_01[0])} caracteres')\n",
    "print((f'El elemento 1 de la lista contiene {len(lista_01[1])} caracteres'))\n",
    "print(f'El elemento 2 de la lista contiene {len(lista_01[2])} caracteres')\n",
    "print(f'El elemento 3 de la lista contiene {len(lista_01[3])} caracteres')\n",
    "\n",
    "\n",
    "\n"
   ]
  },
  {
   "cell_type": "code",
   "execution_count": null,
   "metadata": {},
   "outputs": [],
   "source": [
    "#FUNCIÓN UPPER --> VUELVE A MAYÚSCULAS LA CADENA\n",
    "\n",
    "#La función upper() nos permite manipular los str de tal manera que cada uno de los caracteres\n",
    "#cambiará de minúsculas a mayúsculas\n",
    "texto = 'Eduardo Leon'# Si hay mayúsculas se excluyen de manera automática\n",
    "print(texto.upper())\n",
    "\n",
    "texto_2 = 'mi mamá me mima'\n",
    "print(texto_2.upper())\n",
    "print(texto_2.isupper())\n"
   ]
  },
  {
   "cell_type": "code",
   "execution_count": null,
   "metadata": {},
   "outputs": [],
   "source": [
    "#FUNCIÓN LOWER --> VUELVE A MINÚSCULAS LA CADENA\n",
    "texto_3 = 'EDUARDO LEON'\n",
    "texto_4 = 'MI MAMÁ ME MIMA'\n",
    "print(texto_3.lower())\n",
    "print(texto_4.lower())\n",
    "\n",
    "#Ejercicio 1\n",
    "if (texto_3 and texto_3).islower() == True:\n",
    "    print('Ambas cadenas de texto están en minúsculas')\n",
    "else:\n",
    "    print('Las cadenas de texto están en mayúsculas')\n",
    "\n",
    "#Ejercicio 2\n",
    "texto_5 = 'Mi mamá me Mima'\n",
    "texto_6 = 'La vida es bella'\n",
    "print()\n",
    "if (texto_5 and texto_5).islower == True:\n",
    "    print('Ambas cadenas de texto están en minúsculas')\n",
    "else:\n",
    "    print('O alguna cadena de texto no está en minúsculas o contienen \\nalgún caracter en mayúsculas')\n",
    "\n",
    "print()\n",
    "#Ejercicio 3\n",
    "\n",
    "print(texto_3,'\\n',texto_4)\n",
    "if (texto_3 and texto_4).islower()== False:\n",
    "    print(texto_3.lower(),'\\n',texto_4.lower())\n"
   ]
  },
  {
   "cell_type": "code",
   "execution_count": null,
   "metadata": {},
   "outputs": [],
   "source": [
    "#CAPITALIZE --> VUELVE MAYÚSCULA SOLO EL PRIMER CARACTER\n",
    "texto = 'LA vacuna DEL COVID-19'\n",
    "print(texto.capitalize())"
   ]
  },
  {
   "cell_type": "code",
   "execution_count": null,
   "metadata": {},
   "outputs": [],
   "source": [
    "#TITLE --> VUELVE MAYÚSCULA SOLO EL PRIMER CARACTER DE CADA PALABRA\n",
    "#Convierte cada str en mayúsculas de una frase para volverla un título\n",
    "\n",
    "#Declaramos variables\n",
    "texto_7 = 'LA vacuna DEL COVID-19'\n",
    "print(texto_7)\n",
    "texto_8 = 'la vida es bella'\n",
    "print(texto_8)\n",
    "\n",
    "#Convertimos variables a títulos\n",
    "texto_7 = texto_7.title()\n",
    "texto_8 = texto_8.title()\n",
    "\n",
    "#Imprimimos variables en forma de título\n",
    "print(texto_7)\n",
    "print(texto_8)\n",
    "\n",
    "#Evaluamos sin son títulos cada variable\n",
    "print(texto_7.istitle())\n",
    "print(texto_8.istitle())"
   ]
  },
  {
   "cell_type": "code",
   "execution_count": null,
   "metadata": {},
   "outputs": [],
   "source": [
    "#COUNT --> DEVUELVE LA CANTIDAD DE VECES QUE APARECE UNA CADENA EN OTRA\n",
    "\n",
    "#La Función count hace un recuento de búsqueda sobre cuántas veces aparece un elemnto\n",
    "#dentro de una variable\n",
    "texto_9 = \"HOLA MUNDO MUNDO MUNDO\"\n",
    "print(texto_9.count(\"MUNDO\"))\n",
    "print(texto_9.count(\"mundo\"))\n",
    "\n",
    "nombre = 'Eduardo Omar Moreno León'\n",
    "\n",
    "print(nombre.count('Eduardo'))\n",
    "print(nombre.count('Omar'))\n",
    "\n",
    "numbers = [1,1,2,3,4,5,6,7,8,9]\n",
    "print(numbers.count(1))\n",
    "\n",
    "#Al intentar ejecutar el método .count() dentro de un diccionario tendremos el siguiente error:\n",
    "diccionary = {\n",
    "    'clave': 'valor',\n",
    "    'nombre':'Eduardo',\n",
    "    'apellido': 'Moreno'\n",
    "    }\n",
    "\n",
    "print(diccionary.count('Eduardo'))\n",
    "\"\"\"AttributeError                            Traceback (most recent call last)\n",
    "Cell In[5], line 23\n",
    "    15 print(numbers.count(1))\n",
    "    17 diccionary = {\n",
    "    18     'clave': 'valor',\n",
    "    19     'nombre':'Eduardo',\n",
    "    20     'apellido': 'Moreno'\n",
    "    21     }\n",
    "---> 23 print(diccionary.count('Eduardo'))\n",
    "\n",
    "AttributeError: 'dict' object has no attribute 'count'\"\"\"\n",
    "\n",
    "#El cual nos indica que dicho objeto no posee tal atributo"
   ]
  },
  {
   "cell_type": "code",
   "execution_count": null,
   "metadata": {},
   "outputs": [],
   "source": [
    "#FIND --> TE DICE LA PRIMERA POSICIÓN DESDE LA IZQUIERDA EN EL QUE SE ENCUENTRA UN TEXTO\n",
    "texto_10 = \"HOLA MUNDO MUNDO MUNDO\"\n",
    "print(texto_10.find(\"MUNDO\"))\n",
    "print(texto_10.find(\"mundo\"))\n",
    "\n",
    "nombre = 'Eduardo Omar Moreno Leon'\n",
    "print(nombre.find('Eduardo'))#Indica que 'Eduardo'empieza en el índice '0'\n",
    "print(nombre.find('Omar'))#Indica que el elemnto empieza en el índice 8\n",
    "print(nombre.find('Moreno'))#Indica que el elemento empieza en el índice 13\n",
    "print(nombre.find('Leon'))# Indica que el elemnto empieza en el índice 20"
   ]
  },
  {
   "cell_type": "code",
   "execution_count": null,
   "metadata": {},
   "outputs": [],
   "source": [
    "#RFIND --> TE DICE LA PRIMERA POSICIÓN DESDE LA DERECHA EN EL QUE SE ENCUENTRA UN TEXTO\n",
    "texto_11 = \"Eduardo Omar Moreno Leon\"\n",
    "print(texto_11.rfind(\"MUNDO\"))#Cuando no se encuentra el índice del elemnto devuelve -1\n",
    "print(texto_11.rfind(\"mundo\"))#Cuando no se encuentra el índice del elemnto devuelve -1\n",
    "print(nombre.rfind('Eduardo'))\n",
    "print(nombre.rfind('Omar'))\n",
    "print(nombre.rfind('Moreno'))\n",
    "print(nombre.rfind('Leon'))\n",
    "texto_12 = 'Eduardo'\n",
    "print(texto_12.rfind('d'))#Aquí se leería \"dime desde la derecha hacia la izquierda, dónde aparece la letra 'd'\"\""
   ]
  },
  {
   "cell_type": "code",
   "execution_count": null,
   "metadata": {},
   "outputs": [],
   "source": [
    "#ISDIGIT --> True (CUANDO TODOS LOS CARACTERES SON CIFRAS)\n",
    "\n",
    "#Esta función nos indica si todos los elemntos son dígitos en la variable\n",
    "print(\"45245\".isdigit())\n",
    "print(\"45245.9\".isdigit())#Aquí nos devuelve False por el (.)\n",
    "print(\"45245e\".isdigit())\n",
    "print(\"3.14159263\".isdigit())\n",
    "\n",
    "#Se debe de colocar el elemento a consultar con comillas (' ' o \"  \" o \"\"\"\"  \"\"\" )\n",
    "print(\"\"\"3256478\"\"\".isdigit())"
   ]
  },
  {
   "cell_type": "code",
   "execution_count": null,
   "metadata": {},
   "outputs": [],
   "source": [
    "#ISALNUM --> True (CUANDO TODOS LOS CARACTERES SON ALFANUMÉRICOS)\n",
    "\n",
    "print(\"dfasdfQQQQQQQa3424\".isalnum())\n",
    "print(\"abcd5\".isalnum())\n",
    "print(\"12345\".isalnum())\n",
    "print(\"12345.6\".isalnum())\n",
    "\n",
    "nombre_1 = 'Eduardo1'#Contiene números y letras (True)\n",
    "nombre_2 = 'Eduardo2.'#Contiene un punto devuelve (False)\n",
    "nombre_3 = 'Eduardo'#Contiene caracteres devuelve (True)\n",
    "print(nombre_1.isalnum())\n",
    "print(nombre_2.isalnum())\n",
    "print(nombre_3.isalnum())\n"
   ]
  },
  {
   "cell_type": "code",
   "execution_count": null,
   "metadata": {},
   "outputs": [],
   "source": [
    "#ISALPHA --> True (CUANDO TODOS LOS CARACTERES SON LETRAS)\n",
    "nombre_4 = 'Eduardo'\n",
    "nombre_5 = 'Omar'\n",
    "nombre_6 = 'Moreno'\n",
    "nombre_7 = 'León'#Los acentos también son considerados letras\n",
    "nombre_8 ='djskjd,.;_:'#Solo los acentos los considera letras\n",
    "print(nombre_4.isalpha())\n",
    "print(nombre_5.isalpha())\n",
    "print(nombre_6.isalpha())\n",
    "print(nombre_7.isalpha())\n",
    "print(nombre_8.isalpha())\n",
    "print()\n",
    "print(\"hola\".isalpha())\n",
    "print(\"Hola\".isalpha())\n",
    "print(\"Hola R2D2\".isalpha())\n",
    "print(\"Hola, soy Gokú\".isalpha())\n",
    "print(\"Hola soy Gokú\".isalpha())\n",
    "print(\"HolasoyGokú\".isalpha())"
   ]
  },
  {
   "cell_type": "code",
   "execution_count": null,
   "metadata": {},
   "outputs": [],
   "source": [
    "#ISLOWER --> True (CUANDO TODOS LOS CARACTERES SON LETRAS MINÚSCULAS)\n",
    "nombre == nombre\n",
    "if nombre.islower() == False:\n",
    "    print(nombre)#Como la variable nombre no está en minúsculas nos devuelve su valor\n",
    "                #y comprobamos que tiene caracteres en mayúsculas\n",
    "\n",
    "print(\"hola\".islower())\n",
    "print(\"hola, soy gokú\".islower())\n",
    "print('hola soy gokú'.title().islower())#Cambiamos el texto a Título y después preguntamos\n",
    "                                        #Si está en minúsculas, como no está en minúsculas\n",
    "                                        #nos devuelve False\n",
    "numbers_2 = \"1,2,3,4\"#Convertirmos numeros a str\n",
    "print(type(numbers_2))#Preguntamos que tipo de datos es\n",
    "print(numbers_2.islower())#Preguntamos si están en minúsculas y determina que no son letras\n",
    "                        # y que tampoco están en minúsculas\n"
   ]
  },
  {
   "cell_type": "code",
   "execution_count": null,
   "metadata": {},
   "outputs": [],
   "source": [
    "#ISUPPER --> True (CUANDO TODOS LOS CARACTERES SON LETRAS MAYÚSCULAS)\n",
    "\n",
    "nombre_9 = 'Eduardo'\n",
    "print(nombre_9.isupper())#Solo la primer letra está en mayúsculas\n",
    "print(nombre_9.upper().isupper())#Convertimos a mayúsculas y después evaluamos si ya\n",
    "                                #se encuentra en mayúsculas a lo cual retorna True\n",
    "\n",
    "print()\n",
    "print(\"HOLA\".isupper())\n",
    "print(\"hola, soy gokú\".isupper())\n",
    "print(\"Hola, soy gokú\".isupper())\n",
    "print(\"1234\".isupper())"
   ]
  },
  {
   "cell_type": "code",
   "execution_count": null,
   "metadata": {},
   "outputs": [],
   "source": [
    "#ISTITLE --> True (CUANDO LA CADENA ES UN TÍTULO)\n",
    "\n",
    "texto_12 = 'Eduardo Omar Moreno León'\n",
    "print(texto_12.istitle())\n",
    "print()\n",
    "\n",
    "texto_13 = 'eduardo omar moreno león'\n",
    "print(texto_13.title().istitle())\n",
    "print()\n",
    "\n",
    "print(\"Hola Soy Gokú\".istitle())\n",
    "print(\"HOLA SOY GOKÚ\".istitle())"
   ]
  },
  {
   "cell_type": "code",
   "execution_count": null,
   "metadata": {},
   "outputs": [],
   "source": [
    "#ISSPACE --> True (CUANDO LA CADENA SOLO MUESTRA ESPACIOS)\n",
    "\n",
    "texto_14 = ' h   o la'\n",
    "print(texto_14.isspace())\n",
    "print()\n",
    "\n",
    "print(\"          \".isspace())\n",
    "print(\"           .     \".isspace())"
   ]
  },
  {
   "cell_type": "code",
   "execution_count": null,
   "metadata": {},
   "outputs": [],
   "source": [
    "#STARSWITH --> True (SI LA CADENA EMPIEZA CON DETERMINADA CADENA)\n",
    "\n",
    "texto_15 = 'Me llamo papita'\n",
    "print(texto_15.startswith('Me'))\n",
    "print(texto_15.startswith('papita'))\n",
    "print(texto_15.startswith('llamo') )\n",
    "print()\n",
    "print(\"Hola Soy Gokú\".startswith(\"Hola\"))\n",
    "print(\"Hola Soy Gokú\".startswith(\"Gokú\"))"
   ]
  },
  {
   "cell_type": "code",
   "execution_count": null,
   "metadata": {},
   "outputs": [],
   "source": [
    "#ENDSWITH --> True (SI LA CADENA CULMINA CON DETERMINADA CADENA)\n",
    "texto_16 = 'La vida es bella'\n",
    "print(texto_16.endswith('bella'))\n",
    "texto_17 = 'Anita lava la tina'\n",
    "print(texto_17.endswith('tina'))\n",
    "\n",
    "print()\n",
    "print(\"Hola Soy Gokú\".endswith(\"Gokú\"))\n",
    "print(\"Hola Soy Gokú\".endswith(\"Hola\"))"
   ]
  },
  {
   "cell_type": "code",
   "execution_count": null,
   "metadata": {},
   "outputs": [],
   "source": [
    "#SPLIT --> TE PERMITE DIVIDIR UNA CADENA CON BASE EN ALGÚN CARACTER/CADENA\n",
    "print(type(\"HOLA MUNDO MUNDO TIERRA 2021\"))\n",
    "print(\"HOLA MUNDO MUNDO TIERRA 2021\".split(\" \"))#Mec corta la cadena y la devuelve en\n",
    "                                                    #Forma de lista\n",
    "print(type(\"HOLA MUNDO MUNDO TIERRA 2021\"))\n",
    "print(\"HOLA MUNDO MUNDO TIERRA 2021\".split(\"MU\"))\n",
    "\n",
    "texto_18 = 'Eduardo Omar Moreno León'\n",
    "print(texto_18.split(\"a\"))\n",
    "texto_19 = 'Prueba'\n",
    "texto_19 = texto_19.split('r')#Corta donde encuentra la 'r', la omite y separa la cadena, por último la devuelve en forma de lista\n",
    "print(type(texto_19))\n",
    "print(texto_19)\n",
    "for e in texto_19:\n",
    "    print(e)#Nos devuelve solo dos elemntos 'P' y 'ueba', ya que con el método split\n",
    "            #Cortamos la cadena donde estaba 'r', esta se elimina y nos devolvió ya no una cadena,\n",
    "            #Sino una lista de elemntos: ('P' y 'ueba')"
   ]
  },
  {
   "cell_type": "code",
   "execution_count": null,
   "metadata": {},
   "outputs": [],
   "source": [
    "#JOIN --> TE PERMITE UNIR UNA CADENA CON BASE EN ALGÚN CARACTER/CADENA\n",
    "texto_19 = 'Eduardo Omar Moreno León'\n",
    "print(texto_19, end=',')\n",
    "\n",
    "print('_'.join(texto_19))\n",
    "print(\"Eduardo Omar Moreno León \\n\".join(\"HOLA MUNDO\"))\n",
    "print(\".XYZ.\".join(\"HOLA MUNDO\"))\n"
   ]
  },
  {
   "cell_type": "code",
   "execution_count": null,
   "metadata": {},
   "outputs": [],
   "source": [
    "#STRIP --> ELIMNA ALGÚN CARACTER O CADENA DEL INICIO Y FINAL\n",
    "\n",
    "mensaje = 'anita lava la tina       '\n",
    "print(mensaje.strip(\" \"))\n",
    "\n",
    "\n",
    "print(\"          HOLA MUNDO. ,               \".strip(\",\" \".\" \" \"))\n",
    "print(\"_________________HOLA MUNDO______________\".strip(\"_\"))"
   ]
  },
  {
   "cell_type": "code",
   "execution_count": null,
   "metadata": {},
   "outputs": [],
   "source": [
    "#REPLACE --> REEMPLAZA UNA CADENA CON OTRA\n",
    "print(\"HOLA MUNDO\".replace(\"O\",\"0\").replace('A', '4'))\n",
    "print(\"HOLA MUNDO MUNDO MUNDO\".replace(\"MUNDO\",\"-\"))\n",
    "print(\"HOLA MUNDO MUNDO MUNDO\".replace(\"MUNDO\",\"-\",1))#Esto se lee como \"Reemplaza 'MUNDO por - solo una vez\""
   ]
  },
  {
   "cell_type": "code",
   "execution_count": null,
   "metadata": {},
   "outputs": [],
   "source": [
    "#ALGORITMO PARA INVERTIR UNA CADENA\n",
    "cadena = 'HOLA MUNDO ESTAMOS EN EL 2021'\n",
    "print(cadena[::-1])\n",
    "\n",
    "mensaje = 'anita lava la tina'\n",
    "print(mensaje[::-1])\n",
    "\n",
    "mensaje_2 = 'mi mamá me mi mama'\n",
    "print(mensaje_2[::-1])\n",
    "\n",
    "mensaje_3 = 'Tu tienes la culpa'\n",
    "print(mensaje_3[::-1])#Esto se lee como \"Desde el inicio hasta el final,\n",
    "                    #devuelve cada uno de los elemntos en el orden inverso\"\n",
    "print(mensaje_3[:3:-1])#Esto se lee como \"Empieza desde el inicio, pero donde termine la\n",
    "                    #posición 3, quiero que devuelvas todos los elementos en el orden inverso\")"
   ]
  },
  {
   "attachments": {},
   "cell_type": "markdown",
   "metadata": {},
   "source": [
    "## PARTE 1.3: TIPO DE DATO LÓGICO / BOOLEANO"
   ]
  },
  {
   "cell_type": "code",
   "execution_count": null,
   "metadata": {},
   "outputs": [],
   "source": [
    "2 == 5 #Esto se lee como 2 es igual a 5?\n",
    "    #Se evalúa la condición y como 2 no es igual a 5\n",
    "    #Entonces retorna False"
   ]
  },
  {
   "attachments": {},
   "cell_type": "markdown",
   "metadata": {},
   "source": [
    "#### TRUE ---> 1"
   ]
  },
  {
   "cell_type": "code",
   "execution_count": null,
   "metadata": {},
   "outputs": [],
   "source": [
    "1==1#Esto se lee como 1 es igual a 1?\n",
    "    #Se evalúa la condición y como 1 es igual a 1\n",
    "    #Entonces retorna True"
   ]
  },
  {
   "cell_type": "code",
   "execution_count": null,
   "metadata": {},
   "outputs": [],
   "source": [
    "True + 1#Esto se lee como 1 más 1\n",
    "    #Se evalúa la condición y como 1 más 1 es igual a 2\n",
    "    #Entonces retorna 2 como0 resultado"
   ]
  },
  {
   "cell_type": "code",
   "execution_count": null,
   "metadata": {},
   "outputs": [],
   "source": [
    "(1==1)*3\n",
    "#Esto se ejecutaría de la siguiente manera:\n",
    "    #1 es igual a 1: SI (True),\n",
    "    #(True)*3, sería: 1*3 por tanto devolvería lo siguiente como resultado:\n",
    "    #3"
   ]
  },
  {
   "attachments": {},
   "cell_type": "markdown",
   "metadata": {},
   "source": [
    "#### FALSE ---> 0"
   ]
  },
  {
   "cell_type": "code",
   "execution_count": null,
   "metadata": {},
   "outputs": [],
   "source": [
    "print(f'la siguiente condición es:{1==2} (falsa) ya que uno no es igual a 2')"
   ]
  },
  {
   "cell_type": "code",
   "execution_count": null,
   "metadata": {},
   "outputs": [],
   "source": [
    "print(f'La siguiente operación es {False + 4} ya que False se opera como \"0\"\\ny se entendería como 0 + 4')"
   ]
  },
  {
   "cell_type": "code",
   "execution_count": null,
   "metadata": {},
   "outputs": [],
   "source": [
    "print(f'Aquí evaluamos la condición {(1==2)*3} como esta condición\\nserá falsa retornará \"0\", después se multiplicará\\npor 3, por lo tanto nos devolverá cero como resultado ')"
   ]
  },
  {
   "attachments": {},
   "cell_type": "markdown",
   "metadata": {},
   "source": [
    "## PARTE 1.4: OPERADORES RELACIONALES"
   ]
  },
  {
   "cell_type": "code",
   "execution_count": null,
   "metadata": {},
   "outputs": [],
   "source": [
    "#IGUAL QUE\n",
    "print(f'Esta operación evalúa si un valor es igual a otro, si es verdadera retornará True\\n{6==8} caso contrario, retornará False')\n",
    "print(6==6)"
   ]
  },
  {
   "cell_type": "code",
   "execution_count": null,
   "metadata": {},
   "outputs": [],
   "source": [
    "#DIFERENTE QUE\n",
    "print( f'De la misma manera el operador != (el cual se lee como es distinto de)\\n{6!=8} evalúa la condición y si esta es verdadera retornará True\\ncaso contrario retornará False' )\n",
    "print()\n",
    "print(6!=6)"
   ]
  },
  {
   "cell_type": "code",
   "execution_count": null,
   "metadata": {},
   "outputs": [],
   "source": [
    "#MAYOR QUE\n",
    "print( f'De la misma manera el operador >(el cual se lee, como es mayor que)\\n{6>4} Evalúa si la condición es correcta,\\ncaso contrario devolverá False' )\n",
    "print()\n",
    "print( f'Aquí tenemos un caso interesante (6>6) {6>6}\\nya que se está evaluando si es mayor que, pero ambos\\nson iguales, así que al no ser mayor, sino iguales devuelve False' )"
   ]
  },
  {
   "cell_type": "code",
   "execution_count": null,
   "metadata": {},
   "outputs": [],
   "source": [
    "#MENOR QUE\n",
    "print(6<4)\n",
    "print(6<8)"
   ]
  },
  {
   "cell_type": "code",
   "execution_count": null,
   "metadata": {},
   "outputs": [],
   "source": [
    "#MAYOR IGUAL QUE\n",
    "print(6>=4)\n",
    "print(6>=8)\n",
    "if (8>=6):\n",
    "    print(f\"La operación {(8>=6)} es correcta, por tanto 8>=6\")"
   ]
  },
  {
   "cell_type": "code",
   "execution_count": null,
   "metadata": {},
   "outputs": [],
   "source": [
    "#MENOR IGUAL QUE\n",
    "print(6<=4)\n",
    "print(6<=8)"
   ]
  },
  {
   "cell_type": "code",
   "execution_count": null,
   "metadata": {},
   "outputs": [],
   "source": [
    "#COMPARACIÓN CON VARIABLES\n",
    "VAR = 10 #Declaramos que VAR es igual a 10\n",
    "VAR + 1 == 10 #Aquí no operamos sino preguntamos si VAR + 1 es igual a 10,\n",
    "            # Por tanto, al ser incorrecto esto devolverá False"
   ]
  },
  {
   "cell_type": "code",
   "execution_count": null,
   "metadata": {},
   "outputs": [],
   "source": [
    "#COMPARACIÓN CON CADENAS\n",
    "C1 = \"HOLA\"\n",
    "C2 = \"Hola\"\n",
    "C3 = \"hola\"\n",
    "\n",
    "print(C1 == C2)#Evalúa que sean los mismos caracteres\n",
    "print(C1 == C3)#Evalúa que sean los mismos caracteres\n",
    "            # Como ninguna variable contiene los mismos caracteres retornará False"
   ]
  },
  {
   "cell_type": "code",
   "execution_count": null,
   "metadata": {},
   "outputs": [],
   "source": [
    "#OPERADORES RESUMIDOS\n",
    "\n",
    "\"\"\"Siempre se evalúan los parénteis\n",
    "y despues de ejecutarse las operaciones internas \n",
    "se evalúan los operadores lógicos\"\"\"\n",
    "print((1<5) and (5<8))#\"1 es menor que 5?(True), \"5 es menor que 8(True)?\n",
    "                    #Si ambos son True, la operación devolverá True\n",
    "print(1<5<8)#De igual manera se analiza en orden secuencial \"1 es menor que 5(True),\"\n",
    "            #\"5 es menor que 8(True), si ambos son True, la operación devolverá True\""
   ]
  },
  {
   "cell_type": "code",
   "execution_count": null,
   "metadata": {},
   "outputs": [],
   "source": [
    "print((10>5) and (5>3))\n",
    "print(10>5>3)"
   ]
  },
  {
   "attachments": {},
   "cell_type": "markdown",
   "metadata": {},
   "source": [
    "## PARTE 1.5: OPERADORES LÓGICOS"
   ]
  },
  {
   "cell_type": "code",
   "execution_count": null,
   "metadata": {},
   "outputs": [],
   "source": [
    "#PARA IMPORTAR IMÁGENES\n",
    "from IPython.display import Image\n",
    "Image(filename = \"RECURSOS - CERTIFICACIÓN/TABLAS DE VERDAD.png\")\n",
    "\n",
    "#TRUE -> UNIVERSO\n",
    "#FALSE -> VACÍO\n",
    "\n",
    "#AND -> INTERSECCIÓN\n",
    "#OR -> UNIÓN"
   ]
  },
  {
   "cell_type": "code",
   "execution_count": null,
   "metadata": {},
   "outputs": [],
   "source": [
    "#NEGACIÓN\n",
    "print(not True)#Cambia el valor de True a False\n",
    "print()\n",
    "\n",
    "casado = 'Es casado'\n",
    "print(not casado)\n",
    "print()\n",
    "\n",
    "print(not False)#Cambia el valor de False a True\n",
    "print()\n",
    "\n",
    "print(not (1==1))#La operacion es True, pero al pasarle el bool \"not\", nos devuelve False\n",
    "print()\n",
    "\n",
    "print(not (2==1))#La operación es False, pero al pasarle el bool \"not\", nos devuelve True"
   ]
  },
  {
   "cell_type": "code",
   "execution_count": null,
   "metadata": {},
   "outputs": [],
   "source": [
    "#CONJUNCIÓN - AND\n",
    "print( (True) and (True) )#Si ambas son verdaderas, su resultado será True\n",
    "print( (False) and (True) )#Como no son verdaderas su resultado será False\n",
    "print()\n",
    "\n",
    "print( (1==1) and (5>=2) )#Como al operar primero los paréntesis, ambas devuelven True\n",
    "                        #Al ejecutar el operador and, el cual evalúa si ambas son verdaderas\n",
    "                        #Este nos devuelve True\n",
    "print()\n",
    "\n",
    "print( (1<5) and (4>7) )#La segunda operación es False, y si una de ellas es falsa, nos\n",
    "                        #La condición no se cumplirá y se retornará False"
   ]
  },
  {
   "cell_type": "code",
   "execution_count": null,
   "metadata": {},
   "outputs": [],
   "source": [
    "#DISYUNCIÓN - OR\n",
    "print( (True) or (True) )#Si ambas son verdaderas, retornará True\n",
    "print()\n",
    "\n",
    "print( (False) or (False) )#Si ambas son falas, retornará False\n",
    "print()\n",
    "\n",
    "print( (1==1) or (5>=2) )#De la misma manera, siempre se empieza la evaluación por\n",
    "                        #paréntesis primero, ya obtenidos los valores se operan de manera lógica\n",
    "                        #En este caso, como ambas son verdaderas, nos devolverá True\n",
    "print()\n",
    "\n",
    "print( (1<0) or (4>7) )#Al evaluar cada expresión primero se obtenie que ambas son falsas\n",
    "                    #y el operador \"or\" siempre devolverá False si ambas son falsas"
   ]
  },
  {
   "attachments": {},
   "cell_type": "markdown",
   "metadata": {},
   "source": [
    "## PARTE 1.6: OPERACIONES ANIDADAS\n",
    "\n",
    "Se deben solucionar teniendo en cuenta las siguientes reglas:\n",
    "* Los paréntesis\n",
    "* Las operaciones matemáticas (exp >> mult >> div >> sum >> res)\n",
    "* Las expresiones relacionales\n",
    "* Las expresiones lógicas"
   ]
  },
  {
   "cell_type": "code",
   "execution_count": null,
   "metadata": {},
   "outputs": [],
   "source": [
    "(((1==1) and (1>=3)) * 3 + 1) > 8 / 2\n",
    "#(((True) and (False)) * 3 + 1) > 8 / 2\n",
    "#((False) * 3 + 1) > 8 / 2\n",
    "#(0 + 1) > 8 / 2\n",
    "#(1) > 8 / 2\n",
    "#(1) > 4\n",
    "#False"
   ]
  },
  {
   "attachments": {},
   "cell_type": "markdown",
   "metadata": {},
   "source": [
    "## PARTE 1.7: OPERACIONES DE ASIGNACIÓN"
   ]
  },
  {
   "cell_type": "code",
   "execution_count": null,
   "metadata": {},
   "outputs": [],
   "source": [
    "#ASIGNACIÓN SIMPLE\n",
    "VARIABLE = 10\n",
    "VARIABLE = VARIABLE + 5\n",
    "\n",
    "\n",
    "print(VARIABLE)"
   ]
  },
  {
   "cell_type": "code",
   "execution_count": null,
   "metadata": {},
   "outputs": [],
   "source": [
    "#SUMA EN ASIGNACIÓN\n",
    "VARIABLE = 10\n",
    "VARIABLE += 5\n",
    "VARIABLE_2 = 15\n",
    "VARIABLE_2 += 5\n",
    "print(VARIABLE)\n",
    "print(VARIABLE_2)\n"
   ]
  },
  {
   "cell_type": "code",
   "execution_count": null,
   "metadata": {},
   "outputs": [],
   "source": [
    "#RESTA EN ASIGNACIÓN\n",
    "VARIABLE = 10\n",
    "VARIABLE -= 5\n",
    "\n",
    "VARIABLE_3 = 20\n",
    "VARIABLE_3 -= 5\n",
    "\n",
    "print(VARIABLE)\n",
    "print(VARIABLE_3)\n"
   ]
  },
  {
   "cell_type": "code",
   "execution_count": null,
   "metadata": {},
   "outputs": [],
   "source": [
    "#MULTIPLICACIÓN EN ASIGNACIÓN\n",
    "VARIABLE = 10\n",
    "VARIABLE *= 5\n",
    "\n",
    "print(VARIABLE)"
   ]
  },
  {
   "cell_type": "code",
   "execution_count": null,
   "metadata": {},
   "outputs": [],
   "source": [
    "#DIVISIÓN EN ASIGNACIÓN\n",
    "VARIABLE = 10\n",
    "VARIABLE /= 5\n",
    "\n",
    "print(VARIABLE)"
   ]
  },
  {
   "cell_type": "code",
   "execution_count": null,
   "metadata": {},
   "outputs": [],
   "source": [
    "#MÓDULO EN ASIGNACIÓN \n",
    "VARIABLE = 10\n",
    "VARIABLE %= 5\n",
    "VARIABLE_4 = 10.23\n",
    "VARIABLE_4 %= 5\n",
    "print(VARIABLE)\n",
    "print(VARIABLE_4)#Devuelve el resíduo de la operación con el uso del módulo (%)\n"
   ]
  },
  {
   "cell_type": "code",
   "execution_count": null,
   "metadata": {},
   "outputs": [],
   "source": [
    "#POTENCIA EN ASIGNACIÓN\n",
    "VARIABLE = 10\n",
    "VARIABLE **= 5\n",
    "\n",
    "print(VARIABLE)"
   ]
  },
  {
   "attachments": {},
   "cell_type": "markdown",
   "metadata": {},
   "source": [
    "## PARTE 1.8: ALEATORIOS CON RANDOM"
   ]
  },
  {
   "cell_type": "code",
   "execution_count": null,
   "metadata": {},
   "outputs": [],
   "source": [
    "import random"
   ]
  },
  {
   "cell_type": "code",
   "execution_count": null,
   "metadata": {},
   "outputs": [],
   "source": [
    "#GENERAR UN ALEATORIO DECIMAL ENTRE 0-1\n",
    "random.random()#No se ingresa ningún argumento\n",
    "aleatorios_1=random.random()\n",
    "print(aleatorios_1)\n",
    "print()\n",
    "\n",
    "aleatorios_2=random.random()\n",
    "print(aleatorios_2)\n"
   ]
  },
  {
   "cell_type": "code",
   "execution_count": null,
   "metadata": {},
   "outputs": [],
   "source": [
    "#GENERAR UN ALEATORIO DECIMAL UNIFORME(CON LA MISMA PROBABILIDAD DE SALIR) ENTRE 2 NÚMEROS\n",
    "random.uniform(20,30)\n",
    "\"\"\" \n",
    "La función random.uniform (20, 30)\n",
    "te devuelve un número al azar entre 20 y 30.\n",
    "Cualquier número entre 20 y 30 tiene la misma probabilidad de salir.\n",
    "Por ejemplo, la probabilidad de que salga 25\n",
    "es la misma que la de que salga 29.\n",
    "Esa probabilidad es 1/10, porque hay 10 números posibles entre 20 y 30.\n",
    "Si quieres saber la probabilidad de que salga un número entre 22 y 26,\n",
    "por ejemplo, tienes que contar cuántos números hay entre 22 y 26.\n",
    "Hay 5 números: 22, 23, 24, 25 y 26. Entonces la probabilidad es 5/10,\n",
    "porque hay 5 números de los 10 posibles.\n",
    "\"\"\""
   ]
  },
  {
   "cell_type": "code",
   "execution_count": null,
   "metadata": {},
   "outputs": [],
   "source": [
    "#GENERAR UN ALEATORIO ENTERO ENTRE 2 NÚMEROS\n",
    "random.randrange(20,30)\n",
    "random.randrange(30)\n",
    "\n",
    "\"\"\"random.randrange (20, 30) es una función de Python que te devuelve\n",
    "un número entero al azar entre 20 y 30, sin incluir el 30. Es decir,\n",
    "la probabilidad de que salga cualquier número del 20 al 29 es la misma: 1/10.\n",
    "Por ejemplo, la probabilidad de que salga 25 es la misma que la de que salga 28: 1/10.\n",
    "\n",
    "Esta función es diferente de random.uniform (20, 30), que te devuelve\n",
    "un número real al azar entre 20 y 30, incluyendo el 30. Es decir,\n",
    "la probabilidad de que salga cualquier número entre 20 y 30 es la misma,\n",
    "pero hay infinitos números posibles. Por ejemplo, la probabilidad de que salga 25\n",
    "es la misma que la de que salga 28.5 o 29.9999.\n",
    "\n",
    "Ambas funciones siguen una distribución uniforme, pero una es discreta y la otra\n",
    "es continua. La distribución uniforme significa que todos los valores posibles\n",
    "tienen la misma probabilidad de ocurrir. Se puede representar gráficamente con\n",
    "una línea recta horizontal que indica la probabilidad constante para cada valor.\n",
    "\"\"\"\n"
   ]
  },
  {
   "cell_type": "code",
   "execution_count": null,
   "metadata": {},
   "outputs": [],
   "source": [
    "#GENERAR UN ALEATORIO ENTRE 2 NÚMEROS QUE SEAN MÚLTIPLOS DE \"N\"\n",
    "random.randrange(20,90,4)\n",
    "\n",
    "#límite inferior = 20\n",
    "#límite superior = 89\n",
    "# múltiplo (N)   = 4"
   ]
  },
  {
   "cell_type": "code",
   "execution_count": null,
   "metadata": {},
   "outputs": [],
   "source": [
    "#ELECCIÓN DE CARACTER ALEATORIO\n",
    "CADENA = \"PYTHON-2021\"\n",
    "random.choice(CADENA)"
   ]
  },
  {
   "attachments": {},
   "cell_type": "markdown",
   "metadata": {},
   "source": [
    "## PARTE 1.9: ALEATORIOS CON NUMPY"
   ]
  },
  {
   "cell_type": "code",
   "execution_count": null,
   "metadata": {},
   "outputs": [],
   "source": [
    "import numpy as np"
   ]
  },
  {
   "cell_type": "code",
   "execution_count": null,
   "metadata": {},
   "outputs": [],
   "source": [
    "#GENERAR UN ALEATORIO DECIMAL ENTRE 0-1\n",
    "\n",
    "aleatorios_3 = np.random.random()\n",
    "aleatorios_4 = np.random.random(2)\n",
    "aleatorios_5 = np.random.random(3)\n",
    "aleatorios_6 = np.random.random(4)\n",
    "aleatorios_7 = np.random.random(5)\n",
    "\n",
    "print(aleatorios_3)#Si no es pecifica la cantidad de elemntos que se desean, solo devolverá uno\n",
    "print()\n",
    "\n",
    "print(aleatorios_4)#Devuelve un array de dos números aleatorios\n",
    "print()\n",
    "\n",
    "print(aleatorios_5)#Devuelve un array de tres números aleatorios\n",
    "print()\n",
    "\n",
    "print(aleatorios_6)#Devuelve un array de 4 números aleatorios\n",
    "print()\n",
    "\n",
    "print(aleatorios_7.tolist())#Devuelvo el array en forma de lista para ver los elementos\n",
    "                            #separados por coma\",\"\n",
    "print(aleatorios_7[1])#Me devuelve el elemento generado en la posición 1 del array"
   ]
  },
  {
   "cell_type": "code",
   "execution_count": null,
   "metadata": {},
   "outputs": [],
   "source": [
    "#GENERAR UN ALEATORIO ENTERO ENTRE 2 NÚMEROS\n",
    "#la ufunción np.random.randint() puede resivir desde un parámtro hasta 3 donde:\n",
    "\n",
    "\n",
    "print(np.random.randint(20))\n",
    "#Límite inferior = 0\n",
    "#Límite superior = 19 #Este esá abierto por la derecha(no considera al 20)\n",
    "print()\n",
    "print(np.random.randint(20,30))\n",
    "#Límite inferior = 20\n",
    "#Límite superior = 29 #Este esá abierto por la derecha(no considera al 30)\n",
    "print()\n",
    "\n",
    "print(np.random.randint(20,30,5))\n",
    "#Límite inferior = 20\n",
    "#Límite superior = 29 #Este esá abierto por la derecha(no considera al 30)\n",
    "#Cantidad de elementos a generar (N) = 5\n"
   ]
  },
  {
   "cell_type": "code",
   "execution_count": null,
   "metadata": {},
   "outputs": [],
   "source": [
    "#DEFINICIÓN DE LA SEMILLA EN LA GENERACIÓN DE NÚMEROS ALEATORIOS\n",
    "# Generar un número entero al azar entre 20 y 80\n",
    "aleatorios_8 = np.random.randint (20, 80,5)\n",
    "print (aleatorios_8)\n",
    "print()\n",
    "# Establecer la semilla con el número generado\n",
    "np.random.seed (aleatorios_8)\n",
    "\n",
    "# Generar algunos números aleatorios con la misma semilla\n",
    "print(np.random.random((2,3)))#Aquí le pasamos los argumentos en forma de tupla\n",
    "print()                      #Genera números decimales entre 0 y 1 en un array\n",
    "                            #de dos filas por tres columnas\n",
    "\n",
    "print (np.random.rand (2,3))#Aquí no es necesario pasar los argumentos en forma de tupla\n",
    "print()                     #Genera números decimales entre 0 y 1 en un array\n",
    "                            #de dos filas por tres columnas\n",
    "\n",
    "\n",
    "print (np.random.randint (10, 20, 5))#Genera números enteros de la siguiente manera:\n",
    "#Límite inferior = 10\n",
    "#Límite superior = 19 #Este esá abierto por la derecha(no considera al 20)\n",
    "#Cantidad de elementos a generar (N) = 5\n"
   ]
  },
  {
   "cell_type": "code",
   "execution_count": null,
   "metadata": {},
   "outputs": [],
   "source": []
  }
 ],
 "metadata": {
  "kernelspec": {
   "display_name": "Python 3",
   "language": "python",
   "name": "python3"
  },
  "language_info": {
   "codemirror_mode": {
    "name": "ipython",
    "version": 3
   },
   "file_extension": ".py",
   "mimetype": "text/x-python",
   "name": "python",
   "nbconvert_exporter": "python",
   "pygments_lexer": "ipython3",
   "version": "3.11.0"
  }
 },
 "nbformat": 4,
 "nbformat_minor": 4
}
