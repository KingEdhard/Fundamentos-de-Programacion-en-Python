{
 "cells": [
  {
   "attachments": {},
   "cell_type": "markdown",
   "metadata": {},
   "source": [
    "# PARTE 2: SENTENCIAS DE FLUJO\n",
    "\n",
    "* CONDICIONALES --> SÍ / NO --> IF\n",
    "* REPETITIVAS SIN CANTIDAD PREDEFINIDA --> WHILE\n",
    "* REPETITIVAS CON CANTIDAD PREDEFINIDA --> FOR"
   ]
  },
  {
   "attachments": {},
   "cell_type": "markdown",
   "metadata": {},
   "source": [
    "## PARTE 2.1: SENTENCIA DE FLUJO - IF"
   ]
  },
  {
   "cell_type": "code",
   "execution_count": 35,
   "metadata": {},
   "outputs": [
    {
     "name": "stdout",
     "output_type": "stream",
     "text": [
      "HOLA\n",
      "X vale 1\n",
      "1\n"
     ]
    }
   ],
   "source": [
    "#Importamos el módulo random\n",
    "import random\n",
    "\n",
    "#IF SIMPLE\n",
    "\n",
    "#Iniciamos la variable de control\n",
    "X = random.randint(0,5) #Generamos números aleatorios enteros desde el 0 hasta el 5 con \n",
    "                        #el módulo random.randint()\n",
    "if X == 1: #Si X es igual a 1, entonces\n",
    "    print(\"HOLA\")#Se imprime el mensaje\n",
    "    print(\"X vale 1\")#Además, imprimirá \"X vale 1\"\n",
    "\n",
    "print(X) #Imprimimos X para poder ver la variable de control\n"
   ]
  },
  {
   "cell_type": "code",
   "execution_count": 15,
   "metadata": {},
   "outputs": [
    {
     "name": "stdout",
     "output_type": "stream",
     "text": [
      "X vale 2\n",
      "2 - 10\n"
     ]
    }
   ],
   "source": [
    "#IF ANIDADOS\n",
    "\n",
    "#Generamos números aleatorios enteros desde el 0 hasta el 10 con el módulo random.randint()\n",
    "X = random.randint(0,10)\n",
    "\n",
    "#Generamos números aleatorios enteros desde el 0 hasta el 10 con el módulo random.randint()\n",
    "Y = random.randint(0,10)\n",
    "\n",
    "if X == 2: #Si X es igual a 2 entonces:\n",
    "    print(\"X vale 2\")#Imprime el siguiente mensaje por pantalla\n",
    "    if Y == 3: #Como hemos anidado el if, este no se ejecutara si la primer condición se\n",
    "            #cumple y además también deberá de cumplir esta condición para que también se\n",
    "            # imprima este mensaje\n",
    "        print(\"Y vale 3\")\n",
    "\n",
    "print(X,Y, sep=' - ')#Imprimimos X e Y para poder ver si logramos hacer que las dos\n",
    "                    #condiciones se cumplen y las separamos por '-'\n"
   ]
  },
  {
   "cell_type": "code",
   "execution_count": 36,
   "metadata": {},
   "outputs": [
    {
     "name": "stdout",
     "output_type": "stream",
     "text": [
      "X no vale 1\n"
     ]
    }
   ],
   "source": [
    "#IF ELSE COMO CONDICIÓN BINARIA\n",
    "\n",
    "#Generamos números aleatorios enteros desde el 0 hasta el 5 con el módulo random.randint()\n",
    "X = random.randint(0,5)\n",
    "\n",
    "if X == 1:#Si el número generado es igual a 1\n",
    "    print(\"X vale 1\")#se imprime el mensaje\n",
    "else:#Caso contrario,\n",
    "    print(\"X no vale 1\")#se imprimirá este mensaje"
   ]
  },
  {
   "cell_type": "code",
   "execution_count": 88,
   "metadata": {},
   "outputs": [
    {
     "name": "stdout",
     "output_type": "stream",
     "text": [
      "MALO\n"
     ]
    }
   ],
   "source": [
    "#IF ELIF -> MÉTODO SIN RESUMIR\n",
    "\n",
    "#Solicitamos un número entero por teclado al usuario\n",
    "NOTA = int(input(\"Ingrese nota del alumno: \"))\n",
    "\n",
    "#Se ejecuta la variable de control 'NOTA'\n",
    "if NOTA >= 18:#Si NOTA es mayor o igual a 18\n",
    "    print(\"EXCELENTE\")#Se imprime el mensaje\n",
    "#Si no se cumple esta condición, se ejecuta la siguiente condición.\n",
    "else: #Aquí se anidan todas las condiciones que deben ejecutarse de manera secuencial\n",
    "    if NOTA >= 14:#Este if se encuentra anidado al else, por lo tanto si el else se ejecuta\n",
    "                #se evalúa si la nota del alumno entra en esta condición.\n",
    "        print(\"BUENO\")#Si entra en esta condicón se imprime el mensaje\n",
    "    else:#Si la condición anterior no se ejecuta\n",
    "        if NOTA >= 10:#se evalúa este if y si dicha condición se cumple\n",
    "            print(\"REGULAR\")#imprime el mensaje\n",
    "        else:#Si nada de las condiciones anteriores la sentencia de control se cierra con\n",
    "            print(\"MALO\")#el siguiente mensaje"
   ]
  },
  {
   "cell_type": "code",
   "execution_count": 33,
   "metadata": {},
   "outputs": [
    {
     "name": "stdout",
     "output_type": "stream",
     "text": [
      "Ingrese nota del alumno: 12\n",
      "REGULAR\n"
     ]
    }
   ],
   "source": [
    "#IF ELIF -> MÉTODO RESUMIDO\n",
    "\n",
    "#Inicializamos la variable de control\n",
    "NOTA = int(input(\"Ingrese nota del alumno: \"))#Solicitamos un número entero por teclado al usuario\n",
    "\n",
    "if NOTA >= 18:# Si la nota es mayor o igual a 18\n",
    "    print(\"EXCELENTE\")# se imprime el mensaje\n",
    "elif NOTA >= 14:#Si la nota no es mayor o igual a 18 pero es mayor o igual a 14\n",
    "    print(\"BUENO\")#se imprime el mensaje\n",
    "elif NOTA >= 10:#Si la nota no es mayor o igual a 14 pero es mayor o igual a 10\n",
    "    print(\"REGULAR\")# se imprime el mensaje\n",
    "else:#Si ninguna de las condiciones anteriores se cumple\n",
    "    print(\"MALO\")#Se imprime el mensaje"
   ]
  },
  {
   "attachments": {},
   "cell_type": "markdown",
   "metadata": {},
   "source": [
    "## PARTE 2.2: SENTENCIA DE FLUJO - WHILE"
   ]
  },
  {
   "cell_type": "code",
   "execution_count": 43,
   "metadata": {},
   "outputs": [
    {
     "name": "stdout",
     "output_type": "stream",
     "text": [
      "SALTA\n",
      "SALTA\n",
      "SALTA\n",
      "SALTA\n",
      "SALTA\n"
     ]
    }
   ],
   "source": [
    "#WHILE\n",
    "\n",
    "#Siempre que se necesite un bucle while, este debe estar sujeto a un condición que lo detenga\n",
    "#ya que si no se estblece una condición de control, este se ejecutará indefinidamente\n",
    "\n",
    "#Creamos una variable de inicio\n",
    "X = 1\n",
    "\n",
    "#Iniciamos el bucle while\n",
    "while X <= 5:#Mientras X sea menor o igual a 5\n",
    "    print(\"SALTA\")#Se imprime el mensaje\n",
    "#Se actualiza la variable de control\n",
    "    X += 1#Ahora a X se le suma 1 y se vuelve a iniciar el bucle, así hasta que:\n",
    "#Cuando X llegue a 5, se cumpla la condición del bucle (X menor o igual a 5)"
   ]
  },
  {
   "cell_type": "code",
   "execution_count": 14,
   "metadata": {},
   "outputs": [
    {
     "name": "stdout",
     "output_type": "stream",
     "text": [
      "SALTA\n"
     ]
    }
   ],
   "source": [
    "#WHILE\n",
    "\n",
    "#Creamos una variable de inicio\n",
    "X = 0\n",
    "\n",
    "#Iniciamos el bucle while\n",
    "while X <= 5:#Mientras X sea menor o igual a 5\n",
    "    X = int(input(\"Ingresa un número para X:\"))#X solicitará por pantalla un número\n",
    "    print(\"SALTA\")#Si ese número es menor o igual a 5 imprime el mensaje\n",
    "\n",
    "#X Aquí X incia en 0 para que se pueda ejecutar el ciclo. Cuando se solicita por pantalla\n",
    "#el ingreso de un número, este se le asigna a X y se evalúa la condición del ciclo.\n",
    "#Si X es menor o igual a 5 se vuelve a ejecutar la instrucción hasta que el usuario ingrese\n",
    "#un número que rompa el ciclo (En este caso X debe ser superior a 5 para romper el ciclo)"
   ]
  },
  {
   "cell_type": "code",
   "execution_count": 15,
   "metadata": {},
   "outputs": [
    {
     "name": "stdout",
     "output_type": "stream",
     "text": [
      "SALTA\n",
      "TERMINASTE DE SALTAR\n",
      "HOLA MUNDO\n"
     ]
    }
   ],
   "source": [
    "#WHILE ELSE -> EL \"ELSE\" SE EJECUTA CUANDO YA NO SE CUMPLA LA CONDICIÓN\n",
    "\n",
    "#Creamos una variable de incio\n",
    "X = 0\n",
    "\n",
    "#Iniciamos el bucle while\n",
    "while X <= 5:#Mientras X sea menor o igual a 5\n",
    "    X = int(input(\"Ingrese X:\"))#X solicitará por pantalla un número\n",
    "    print(\"SALTA\")##Si ese número es menor o igual a 5 imprime el mensaje\n",
    "\n",
    "#Cuando el bucle se haya cerrado\n",
    "else:#else actuará como una condición final (\"si ya nada ocurre haz lo siguiente:\")\n",
    "    print(\"TERMINASTE DE SALTAR\")#Imprime el mensaje y después\n",
    "    print(\"HOLA MUNDO\")#imprime este mensaje\n",
    "\n",
    "#else debe estar en la misma indentación que while, ya que si lo incluímos dentro del ciclo\n",
    "#devolverá un error. Además, sigue la misma lógica que el bucle, es decir:\n",
    "#si ingresamos el número 6, X será mayor que 5, por lo tanto imprimirá\n",
    "#SALTA y después evaluará al else, como este tiene los mensajes \"TERMINASTE DE SALTAR\" y\n",
    "#\"HOLA MUNDO\" se imprimirán debajo del \"SALTA\""
   ]
  },
  {
   "cell_type": "code",
   "execution_count": 9,
   "metadata": {},
   "outputs": [
    {
     "name": "stdout",
     "output_type": "stream",
     "text": [
      "Priemr número 3\n",
      "Priemr número 2\n",
      "Priemr número 5\n",
      "Priemr número 6\n",
      "Terminaste de imprimir\n",
      "¡Sigue parcticando!\n"
     ]
    }
   ],
   "source": [
    "#BREAK -> PARA ROMPER EL BUCLE\n",
    "\n",
    "#Creamos una variable de inicio\n",
    "X = 4\n",
    "#Iniciamos el bucle while\n",
    "while X <= 5:#Mientras X se menor o igual a 5\n",
    "    X = int(input(\"Ingrese X:\"))# X solicitará por pantalla un número\n",
    "    if X == 0:#Si el número es igual a 0\n",
    "        break#Se detendrá, si esto no ocurre,\n",
    "    print(\"Primer número\", X)#Se imprime el mensaje\n",
    "\n",
    "#Cuando el bucle se haya detenido\n",
    "else:#Imprime \"SALTA\"\n",
    "    print(\"Terminaste de ingresar números\")#Después imprime \"Terminaste de ingresar números\"\n",
    "    #y por último\n",
    "    print(\"¡Sigue parcticando!\")#Imprime \"¡Sigue parcticando!\"\n",
    "\n",
    "#La isntrucción break, nos permite romper un ciclo o detener su ejecución de manera más controlada\n"
   ]
  },
  {
   "cell_type": "code",
   "execution_count": 8,
   "metadata": {},
   "outputs": [
    {
     "name": "stdout",
     "output_type": "stream",
     "text": [
      "Número 1\n",
      "Número 2\n",
      "El numero 3 detuvo el ciclo\n",
      "Número 4\n",
      "Número 5\n",
      "Número 6\n",
      "\n",
      "Este es número que se imprimió:\t1\n",
      "Este es número que se imprimió:\t2\n",
      "Este es número que se imprimió:\t3\n",
      "El numero 4 se desacrtó y continuó con el siguiente número\n",
      "Este es número que se imprimió:\t5\n",
      "Este es número que se imprimió:\t6\n",
      "Este es número que se imprimió:\t7\n",
      "Este es número que se imprimió:\t8\n",
      "Este es número que se imprimió:\t9\n",
      "Este es número que se imprimió:\t10\n",
      "Este es número que se imprimió:\t11\n",
      "Este es número que se imprimió:\t12\n",
      "Este es número que se imprimió:\t13\n",
      "Este es número que se imprimió:\t14\n",
      "Este es número que se imprimió:\t15\n",
      "Este es número que se imprimió:\t16\n",
      "Este es número que se imprimió:\t17\n",
      "Este es número que se imprimió:\t18\n",
      "Este es número que se imprimió:\t19\n",
      "Este es número que se imprimió:\t20\n",
      "Este es número que se imprimió:\t21\n"
     ]
    }
   ],
   "source": [
    "#CONTINUE -> PARA SALTAR UNA ITERACIÓN SIN ROMPER EL BUCLE\n",
    "\n",
    "#Creamos la variable de incio\n",
    "X = 0\n",
    "# Iniciamos el ciclo while\n",
    "while X <= 5:#Mientras X sea menor o igual a 5\n",
    "    X += 1#a X súmale  1 y actualiza el valor de X\n",
    "    if X == 3:# Si X es igual a 3,entonces\n",
    "        print(\"El numero 3 detuvo el ciclo\")#Imprime el siguiente mensaje\n",
    "        continue# y Continua con el ciclo\n",
    "    print(\"Número\",X)#Imprime Número más el valor que X ya teniendo durante el ciclo\n",
    "\n",
    "print()#Genera un espació entre cada ejecución del código\n",
    "\n",
    "Y = 0\n",
    "while Y <= 20:\n",
    "    Y += 1\n",
    "    if Y == 4:\n",
    "        print(\"El numero 4 se desacrtó y continuó con el siguiente número\")\n",
    "        continue\n",
    "    print(f\"Este es número que se imprimió:\\t{Y}\")"
   ]
  },
  {
   "cell_type": "code",
   "execution_count": 65,
   "metadata": {},
   "outputs": [
    {
     "name": "stdout",
     "output_type": "stream",
     "text": [
      "SALTA 2\n"
     ]
    }
   ],
   "source": [
    "#EJEMPLO CON BREAK\n",
    "X = 1\n",
    "while X <= 5:\n",
    "    \n",
    "    X += 1\n",
    "    \n",
    "    if X == 3:\n",
    "        break\n",
    "        \n",
    "    print(\"SALTA\",X)"
   ]
  },
  {
   "cell_type": "code",
   "execution_count": 2,
   "metadata": {},
   "outputs": [
    {
     "name": "stdout",
     "output_type": "stream",
     "text": [
      "EXCELENTE\n"
     ]
    }
   ],
   "source": [
    "#ALGORITMO DE CAPTURA DE NOTAS CORRECTAS (0-20)\n",
    "while (True):\n",
    "    NOTA = int(input(\"Ingrese nota del alumno: \"))\n",
    "\n",
    "    if NOTA>=0 and NOTA<=20:\n",
    "        break\n",
    "\n",
    "if NOTA >= 18:\n",
    "    print(\"EXCELENTE\")\n",
    "elif NOTA >= 14:\n",
    "    print(\"BUENO\")\n",
    "elif NOTA >= 10:\n",
    "    print(\"REGULAR\")\n",
    "else:\n",
    "    print(\"MALO\")"
   ]
  },
  {
   "cell_type": "code",
   "execution_count": null,
   "metadata": {},
   "outputs": [],
   "source": []
  },
  {
   "attachments": {},
   "cell_type": "markdown",
   "metadata": {},
   "source": [
    "## PARTE 2.3: SENTENCIA DE FLUJO - FOR"
   ]
  },
  {
   "cell_type": "code",
   "execution_count": 77,
   "metadata": {},
   "outputs": [
    {
     "name": "stdout",
     "output_type": "stream",
     "text": [
      "HOLA 0\n",
      "HOLA 1\n",
      "HOLA 2\n",
      "HOLA 3\n",
      "HOLA 4\n",
      "HOLA 5\n",
      "HOLA 6\n",
      "HOLA 7\n",
      "HOLA 8\n",
      "HOLA 9\n"
     ]
    }
   ],
   "source": [
    "#REPETIR ALGO DETERMINADA CANTIDAD DE VECES\n",
    "for X in range(10):\n",
    "    print(\"HOLA\",X)"
   ]
  },
  {
   "cell_type": "code",
   "execution_count": 78,
   "metadata": {},
   "outputs": [
    {
     "name": "stdout",
     "output_type": "stream",
     "text": [
      "H\n",
      "O\n",
      "L\n",
      "A\n",
      " \n",
      "M\n",
      "U\n",
      "N\n",
      "D\n",
      "O\n"
     ]
    }
   ],
   "source": [
    "#FOR EN CADENAS\n",
    "CADENA = \"HOLA MUNDO\"\n",
    "\n",
    "for C in CADENA:\n",
    "    print(C)"
   ]
  },
  {
   "cell_type": "code",
   "execution_count": 79,
   "metadata": {},
   "outputs": [
    {
     "name": "stdout",
     "output_type": "stream",
     "text": [
      "0\n",
      "2\n",
      "4\n",
      "10\n",
      "15\n",
      "100\n"
     ]
    }
   ],
   "source": [
    "#FOR EN LISTAS\n",
    "LISTA = [0 , 2 , 4 , 10 , 15 , 100]\n",
    "\n",
    "for L in LISTA:\n",
    "    print(L)"
   ]
  },
  {
   "cell_type": "code",
   "execution_count": null,
   "metadata": {},
   "outputs": [],
   "source": []
  }
 ],
 "metadata": {
  "kernelspec": {
   "display_name": "Python 3",
   "language": "python",
   "name": "python3"
  },
  "language_info": {
   "codemirror_mode": {
    "name": "ipython",
    "version": 3
   },
   "file_extension": ".py",
   "mimetype": "text/x-python",
   "name": "python",
   "nbconvert_exporter": "python",
   "pygments_lexer": "ipython3",
   "version": "3.11.0"
  }
 },
 "nbformat": 4,
 "nbformat_minor": 4
}
